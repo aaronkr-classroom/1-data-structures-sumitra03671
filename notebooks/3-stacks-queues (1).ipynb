{
 "cells": [
  {
   "cell_type": "markdown",
   "metadata": {
    "id": "-SBAAOpMFw1H"
   },
   "source": [
    "# Stacks with Arrays"
   ]
  },
  {
   "cell_type": "code",
   "execution_count": 1,
   "metadata": {
    "executionInfo": {
     "elapsed": 374,
     "status": "ok",
     "timestamp": 1731907705945,
     "user": {
      "displayName": "Aaron Snowberger",
      "userId": "15439271125605552921"
     },
     "user_tz": -540
    },
    "id": "kQHSTqQCGghX"
   },
   "outputs": [],
   "source": [
    "class StackArr:\n",
    "    def __init__(self, size):\n",
    "        self.array_size = size\n",
    "        self.top = -1\n",
    "        self.array = [None] * size\n",
    "\n",
    "    def push(self, value):\n",
    "        # If stack is full, expand the size\n",
    "        if self.top == self.array_size - 1:\n",
    "            self.array_size *= 2\n",
    "            self.array.extend([None] * self.array_size)\n",
    "            print(\"Array expanded to size:\", self.array_size)\n",
    "\n",
    "        self.top += 1\n",
    "        self.array[self.top] = value\n",
    "\n",
    "    def pop(self):\n",
    "        if self.top == -1:\n",
    "            return None  # Stack is empty\n",
    "        value = self.array[self.top]\n",
    "        self.top -= 1\n",
    "        return value\n",
    "\n",
    "    def is_empty(self):\n",
    "        return self.top == -1\n",
    "\n",
    "    def peek(self):\n",
    "        if self.top == -1:\n",
    "            return None\n",
    "        return self.array[self.top]"
   ]
  },
  {
   "cell_type": "markdown",
   "metadata": {
    "id": "XuIgbabCGANl"
   },
   "source": [
    "## Reverse String with a Stack"
   ]
  },
  {
   "cell_type": "code",
   "execution_count": null,
   "metadata": {
    "executionInfo": {
     "elapsed": 343,
     "status": "ok",
     "timestamp": 1731907723041,
     "user": {
      "displayName": "Aaron Snowberger",
      "userId": "15439271125605552921"
     },
     "user_tz": -540
    },
    "id": "CcfXkkcMF_RO"
   },
   "outputs": [],
   "source": [
    "def reverse_string(input_string): # HELLO = 5\n",
    "    # practice\n",
    "    stack = StackArr(len(input_string)) # size parameter\n",
    "    for char in input_string:\n",
    "      stack.push(char)\n",
    "\n",
    "    reversed_str = ''\n",
    "    while not stack.is_empty():\n",
    "      reversed_str += stack.pop()\n",
    "\n",
    "    return reversed_str"
   ]
  },
  {
   "cell_type": "code",
   "execution_count": null,
   "metadata": {
    "colab": {
     "base_uri": "https://localhost:8080/"
    },
    "executionInfo": {
     "elapsed": 364,
     "status": "ok",
     "timestamp": 1731907863639,
     "user": {
      "displayName": "Aaron Snowberger",
      "userId": "15439271125605552921"
     },
     "user_tz": -540
    },
    "id": "_7zzR-0_vxsL",
    "outputId": "191771e1-e3a9-4f72-dc39-6431ff1ab407"
   },
   "outputs": [
    {
     "ename": "",
     "evalue": "",
     "output_type": "error",
     "traceback": [
      "\u001b[1;31mRunning cells with 'Python 3.12.6' requires the ipykernel package.\n",
      "\u001b[1;31mRun the following command to install 'ipykernel' into the Python environment. \n",
      "\u001b[1;31mCommand: 'c:/Users/User/AppData/Local/Programs/Python/Python312/python.exe -m pip install ipykernel -U --user --force-reinstall'"
     ]
    }
   ],
   "source": [
    "print(reverse_string(\"Tyson Vs. Paul was a money grab!!\"))"
   ]
  },
  {
   "cell_type": "markdown",
   "metadata": {
    "id": "i3v-h_OvGSQ2"
   },
   "source": [
    "## Undo Feature in Text Editor"
   ]
  },
  {
   "cell_type": "code",
   "execution_count": 16,
   "metadata": {
    "executionInfo": {
     "elapsed": 332,
     "status": "ok",
     "timestamp": 1731909703340,
     "user": {
      "displayName": "Aaron Snowberger",
      "userId": "15439271125605552921"
     },
     "user_tz": -540
    },
    "id": "iSc_6rQEGQm_"
   },
   "outputs": [],
   "source": [
    "def text_editor_simulation(commands):\n",
    "    # practice\n",
    "    text_stack = StackArr(10)\n",
    "    undo_stack = StackArr(10)\n",
    "\n",
    "    for command in commands:\n",
    "      if command.startswith(\"type \"):\n",
    "        char = command.split()[1]\n",
    "        text_stack.push(char)\n",
    "      elif command == \"undo\":\n",
    "        undo_stack.push(text_stack.pop())\n",
    "      elif command == \"redo\":\n",
    "        if not undo_stack.is_empty():\n",
    "          text_stack.push(undo_stack.pop())\n",
    "          # inside IF\n",
    "        # inside ELIF\n",
    "      # inside FOR\n",
    "    # outside FOR\n",
    "    # Result string\n",
    "    result = \"\"\n",
    "    while not text_stack.is_empty():\n",
    "      result = text_stack.pop() + result\n",
    "\n",
    "    return result"
   ]
  },
  {
   "cell_type": "code",
   "execution_count": 18,
   "metadata": {
    "colab": {
     "base_uri": "https://localhost:8080/"
    },
    "executionInfo": {
     "elapsed": 340,
     "status": "ok",
     "timestamp": 1731909724411,
     "user": {
      "displayName": "Aaron Snowberger",
      "userId": "15439271125605552921"
     },
     "user_tz": -540
    },
    "id": "euZMCyuTzTyu",
    "outputId": "69f9b2e5-23c5-4619-f03e-3bdb9448d9f8"
   },
   "outputs": [
    {
     "name": "stdout",
     "output_type": "stream",
     "text": [
      "ABC\n"
     ]
    }
   ],
   "source": [
    "commands = [\n",
    "    \"type A\", \"type B\", \"type Q\", \"type U\", \"undo\", \"undo\", \"type C\"\n",
    "]\n",
    "print(text_editor_simulation(commands))"
   ]
  },
  {
   "cell_type": "markdown",
   "metadata": {
    "id": "D5A2W5BsF1VF"
   },
   "source": [
    "# Stacks with Linked Lists"
   ]
  },
  {
   "cell_type": "code",
   "execution_count": 14,
   "metadata": {
    "executionInfo": {
     "elapsed": 322,
     "status": "ok",
     "timestamp": 1731909001711,
     "user": {
      "displayName": "Aaron Snowberger",
      "userId": "15439271125605552921"
     },
     "user_tz": -540
    },
    "id": "8FD52-A-FuXr"
   },
   "outputs": [],
   "source": [
    "class LinkedListNode:\n",
    "    def __init__(self, value):\n",
    "        self.value = value\n",
    "        self.next = None\n",
    "\n",
    "class StackLL:\n",
    "    def __init__(self):\n",
    "        self.head = None\n",
    "\n",
    "    def push(self, value):\n",
    "        new_node = LinkedListNode(value)\n",
    "        new_node.next = self.head\n",
    "        self.head = new_node\n",
    "\n",
    "    def pop(self):\n",
    "        if self.head is None:\n",
    "            return None  # Stack is empty\n",
    "        value = self.head.value\n",
    "        self.head = self.head.next\n",
    "        return value\n",
    "\n",
    "    def is_empty(self):\n",
    "        return self.head is None\n",
    "\n",
    "    def peek(self):\n",
    "        if self.head is None:\n",
    "            return None\n",
    "        return self.head.value"
   ]
  },
  {
   "cell_type": "markdown",
   "metadata": {
    "id": "SRIuvVphHbnI"
   },
   "source": [
    "## Check for Balanced Parentheses"
   ]
  },
  {
   "cell_type": "code",
   "execution_count": 19,
   "metadata": {
    "executionInfo": {
     "elapsed": 389,
     "status": "ok",
     "timestamp": 1731910151067,
     "user": {
      "displayName": "Aaron Snowberger",
      "userId": "15439271125605552921"
     },
     "user_tz": -540
    },
    "id": "wnq8TneTF7en"
   },
   "outputs": [],
   "source": [
    "def is_balanced(expression):\n",
    "    # practice\n",
    "    stack = StackLL()\n",
    "    matching_brackets = {\n",
    "        ')': '(',\n",
    "        '}': '{',\n",
    "        ']': '['\n",
    "    }\n",
    "    for char in expression:\n",
    "      if char in \"({[\":\n",
    "        stack.push(char)\n",
    "      elif char in \")}]\":\n",
    "        top = stack.pop()\n",
    "        if top != matching_brackets[char]: # )\n",
    "          return False\n",
    "\n",
    "    return stack.is_empty()"
   ]
  },
  {
   "cell_type": "code",
   "execution_count": 20,
   "metadata": {
    "colab": {
     "base_uri": "https://localhost:8080/"
    },
    "executionInfo": {
     "elapsed": 329,
     "status": "ok",
     "timestamp": 1731910330318,
     "user": {
      "displayName": "Aaron Snowberger",
      "userId": "15439271125605552921"
     },
     "user_tz": -540
    },
    "id": "f_OaS1VA5LKC",
    "outputId": "ffc1aca1-162e-4e39-e68e-b3484af1bf65"
   },
   "outputs": [
    {
     "name": "stdout",
     "output_type": "stream",
     "text": [
      "True\n",
      "False\n"
     ]
    }
   ],
   "source": [
    "print(is_balanced(\"(Hello{nice[to(meet)you]})\")) # True\n",
    "print(is_balanced(\"(Hello{nice[to(meet)you])\")) # False"
   ]
  },
  {
   "cell_type": "markdown",
   "metadata": {
    "id": "Qv5QgKWiHkbQ"
   },
   "source": [
    "## Browser Navigation"
   ]
  },
  {
   "cell_type": "code",
   "execution_count": 21,
   "metadata": {
    "executionInfo": {
     "elapsed": 335,
     "status": "ok",
     "timestamp": 1731911016530,
     "user": {
      "displayName": "Aaron Snowberger",
      "userId": "15439271125605552921"
     },
     "user_tz": -540
    },
    "id": "WfA_MKK9HfeX"
   },
   "outputs": [],
   "source": [
    "def browser_navigation(urls):\n",
    "    # practice\n",
    "    back_stack = StackLL() # previously visited history\n",
    "    forward_stack = StackLL() # after \"back\" history\n",
    "    current_page = None\n",
    "\n",
    "    for action in urls:\n",
    "      if action.startswith(\"visit \"):\n",
    "        if current_page:\n",
    "          back_stack.push(current_page)\n",
    "        current_page = action.split()[1] # visit google.com\n",
    "        # Clear the forward stack because we visited a new page\n",
    "        while not forward_stack.is_empty():\n",
    "          forward_stack.pop()\n",
    "      elif action == \"back\" and not back_stack.is_empty():\n",
    "        forward_stack.push(current_page)\n",
    "        current_page = back_stack.pop()\n",
    "      elif action == \"forward\" and not forward_stack.is_empty():\n",
    "        back_stack.push(current_page)\n",
    "        current_page = forward_stack.pop()\n",
    "\n",
    "      print(\"Current page: \", current_page) # auto \\n\n"
   ]
  },
  {
   "cell_type": "code",
   "execution_count": 23,
   "metadata": {
    "colab": {
     "base_uri": "https://localhost:8080/"
    },
    "executionInfo": {
     "elapsed": 360,
     "status": "ok",
     "timestamp": 1731911358995,
     "user": {
      "displayName": "Aaron Snowberger",
      "userId": "15439271125605552921"
     },
     "user_tz": -540
    },
    "id": "t1aKRhXU8gfU",
    "outputId": "ea4fc5ab-dd43-4953-f161-a985850f40d3"
   },
   "outputs": [
    {
     "name": "stdout",
     "output_type": "stream",
     "text": [
      "Current page:  wikipedia.org\n",
      "Current page:  youtube.com\n",
      "Current page:  amazon.com\n",
      "Current page:  youtube.com\n",
      "Current page:  wikipedia.org\n",
      "Current page:  youtube.com\n",
      "Current page:  yts.mx\n",
      "Current page:  ft.com\n",
      "Current page:  coinmarketcap.com\n",
      "Current page:  ft.com\n",
      "Current page:  coinmarketcap.com\n"
     ]
    }
   ],
   "source": [
    "commands = [\n",
    "    \"visit wikipedia.org\",\n",
    "    \"visit youtube.com\",\n",
    "    \"visit amazon.com\",\n",
    "    \"back\",\n",
    "    \"back\",\n",
    "    \"forward\",\n",
    "    \"visit yts.mx\",\n",
    "    \"visit ft.com\",\n",
    "    \"visit coinmarketcap.com\",\n",
    "    \"back\",\n",
    "    \"forward\"\n",
    "]\n",
    "browser_navigation(commands)"
   ]
  },
  {
   "cell_type": "markdown",
   "metadata": {
    "id": "HoXsbKgKMSxv"
   },
   "source": [
    "## Explanation\n",
    "\n",
    "1. **Array-based Stack:**\n",
    "  - Uses a list with dynamic resizing (`self.array.extend()`).\n",
    "  - Offers `push()`, `pop()`, `is_empty()`, and `peek()` methods.\n",
    "2. **Linked List-based Stack:**\n",
    "  - Implements stack using `LinkedListNode` to manage nodes.\n",
    "  - No need to resize, as memory is allocated dynamically.\n",
    "3. **Examples:**\n",
    "  - **Reversing a String:** Uses a stack to reverse characters.\n",
    "  - **Balanced Parentheses:** Checks matching brackets using a stack.\n",
    "  - **Text Editor Undo/Redo:** Manages typing and undo/redo commands.\n",
    "  - **Browser Navigation:** Mimics a web browser back/forward navigation.\n",
    "\n",
    "Feel free to try out and modify these examples!"
   ]
  },
  {
   "cell_type": "markdown",
   "metadata": {
    "id": "qONjyAfIHurA"
   },
   "source": [
    "---\n",
    "# Queues"
   ]
  },
  {
   "cell_type": "code",
   "execution_count": 24,
   "metadata": {
    "executionInfo": {
     "elapsed": 379,
     "status": "ok",
     "timestamp": 1731911435543,
     "user": {
      "displayName": "Aaron Snowberger",
      "userId": "15439271125605552921"
     },
     "user_tz": -540
    },
    "id": "V-olBGhzHnKX"
   },
   "outputs": [],
   "source": [
    "class LinkedListNode:\n",
    "    def __init__(self, value):\n",
    "        self.value = value\n",
    "        self.next = None\n",
    "\n",
    "class Queue:\n",
    "    def __init__(self):\n",
    "        self.front = None\n",
    "        self.back = None\n",
    "\n",
    "    def enqueue(self, value):\n",
    "        new_node = LinkedListNode(value)\n",
    "        if self.back is None:  # Queue is empty\n",
    "            self.front = new_node\n",
    "            self.back = new_node\n",
    "        else:\n",
    "            self.back.next = new_node\n",
    "            self.back = new_node\n",
    "\n",
    "    def dequeue(self):\n",
    "        if self.front is None:  # Queue is empty\n",
    "            return None\n",
    "        value = self.front.value\n",
    "        self.front = self.front.next\n",
    "        if self.front is None:  # If queue becomes empty\n",
    "            self.back = None\n",
    "        return value\n",
    "\n",
    "    def is_empty(self):\n",
    "        return self.front is None\n",
    "\n",
    "    def peek(self):\n",
    "        if self.front is None:\n",
    "            return None\n",
    "        return self.front.value"
   ]
  },
  {
   "cell_type": "markdown",
   "metadata": {
    "id": "MzjUFq4iH0fP"
   },
   "source": [
    "## Simulate a Ticket Counter"
   ]
  },
  {
   "cell_type": "code",
   "execution_count": 25,
   "metadata": {
    "executionInfo": {
     "elapsed": 405,
     "status": "ok",
     "timestamp": 1731911522219,
     "user": {
      "displayName": "Aaron Snowberger",
      "userId": "15439271125605552921"
     },
     "user_tz": -540
    },
    "id": "sIE5spn3HyuV"
   },
   "outputs": [],
   "source": [
    "def simulate_coffee_counter(customers):\n",
    "    # practice\n",
    "    q = Queue()\n",
    "    for customer in customers:\n",
    "      q.enqueue(customer)\n",
    "\n",
    "    print(\"Serving all customers:\")\n",
    "    while not q.is_empty():\n",
    "      print(\"Serving: \", q.dequeue())"
   ]
  },
  {
   "cell_type": "code",
   "execution_count": 26,
   "metadata": {
    "colab": {
     "base_uri": "https://localhost:8080/"
    },
    "executionInfo": {
     "elapsed": 359,
     "status": "ok",
     "timestamp": 1731911601318,
     "user": {
      "displayName": "Aaron Snowberger",
      "userId": "15439271125605552921"
     },
     "user_tz": -540
    },
    "id": "1NyOEUgl-OcE",
    "outputId": "beea2f13-58a1-45a8-b607-589a9a602ccf"
   },
   "outputs": [
    {
     "name": "stdout",
     "output_type": "stream",
     "text": [
      "Serving all customers:\n",
      "Serving:  Aaron\n",
      "Serving:  Umid\n",
      "Serving:  Umar\n",
      "Serving:  Ammar\n",
      "Serving:  Elon\n",
      "Serving:  Jake\n",
      "Serving:  Logan\n"
     ]
    }
   ],
   "source": [
    "simulate_coffee_counter([\n",
    "    \"Aaron\", \"Umid\", \"Umar\", \"Ammar\", \"Elon\", \"Jake\", \"Logan\"\n",
    "])"
   ]
  },
  {
   "cell_type": "markdown",
   "metadata": {
    "id": "CJD5Gq4KH5jR"
   },
   "source": [
    "## Hot Potato Game (Circle Elimination)"
   ]
  },
  {
   "cell_type": "code",
   "execution_count": null,
   "metadata": {
    "id": "jGwYMtt8H3Hi"
   },
   "outputs": [],
   "source": [
    "def hot_potato(players, rounds):\n",
    "    #practice"
   ]
  },
  {
   "cell_type": "markdown",
   "metadata": {
    "id": "MoyXEhZDIArA"
   },
   "source": [
    "## Printer Job Queue Sim"
   ]
  },
  {
   "cell_type": "code",
   "execution_count": null,
   "metadata": {
    "id": "RIwxVS7FH95T"
   },
   "outputs": [],
   "source": [
    "def printer_job_queue(jobs):\n",
    "    # practice"
   ]
  },
  {
   "cell_type": "markdown",
   "metadata": {
    "id": "zALlREviIGQ5"
   },
   "source": [
    "## Customer Service Help Desk"
   ]
  },
  {
   "cell_type": "code",
   "execution_count": null,
   "metadata": {
    "id": "TOsozUSQIDSc"
   },
   "outputs": [],
   "source": [
    "class HelpDesk:\n",
    "    # practice"
   ]
  },
  {
   "cell_type": "markdown",
   "metadata": {
    "id": "CX7KOfKNIK3x"
   },
   "source": [
    "## Call Center"
   ]
  },
  {
   "cell_type": "code",
   "execution_count": null,
   "metadata": {
    "id": "bYNgfJ6LIIXP"
   },
   "outputs": [],
   "source": [
    "import random\n",
    "import time\n",
    "\n",
    "def call_center_simulation(calls):\n",
    "    # practice"
   ]
  },
  {
   "cell_type": "markdown",
   "metadata": {
    "id": "hFuEqrpqMqSe"
   },
   "source": [
    "## Explanation\n",
    "\n",
    "1. **Queue Implementation:**\n",
    "  - Uses a linked list with front pointing to the first element and back pointing to the last.\n",
    "  - `enqueue()`: Adds a new element to the back of the queue.\n",
    "  - `dequeue()`: Removes and returns the element from the front.\n",
    "  - `is_empty()`: Checks if the queue is empty.\n",
    "  - `peek()`: Returns the front element without removing it.\n",
    "2. **Examples:**\n",
    "  - **Ticket Counter:** Serves customers in the order they arrive.\n",
    "  - **Hot Potato Game:** Eliminates players in a circular manner until one remains.\n",
    "  - **Printer Job Queue:** Simulates jobs being processed in the order they are added.\n",
    "  - **Help Desk Queue:** Handles customer service requests.\n",
    "  - **Call Center:** Simulates a call center handling incoming calls.\n",
    "\n",
    "These scenarios illustrate real-world applications of queues, showing how they manage tasks in a \"first-in, first-out\" (FIFO) manner."
   ]
  },
  {
   "cell_type": "code",
   "execution_count": null,
   "metadata": {
    "id": "CYlqlWKgIMtj"
   },
   "outputs": [],
   "source": []
  }
 ],
 "metadata": {
  "colab": {
   "authorship_tag": "ABX9TyPpaMhM4ihzsPaKv7sHL+/U",
   "provenance": []
  },
  "kernelspec": {
   "display_name": "Python 3",
   "name": "python3"
  },
  "language_info": {
   "name": "python",
   "version": "3.12.6"
  }
 },
 "nbformat": 4,
 "nbformat_minor": 0
}
