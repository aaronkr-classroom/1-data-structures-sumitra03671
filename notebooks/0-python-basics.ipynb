{
 "cells": [
  {
   "cell_type": "markdown",
   "metadata": {},
   "source": [
    "# 0. Hello, Python! (Basic Data Types)\n",
    "\n",
    "This is a Python refresher notebook. It covers the basic data types in Python."
   ]
  },
  {
   "cell_type": "code",
   "execution_count": 3,
   "metadata": {},
   "outputs": [
    {
     "name": "stdout",
     "output_type": "stream",
     "text": [
      "5\n"
     ]
    }
   ],
   "source": [
    "# --- Numeric Types ---\n",
    "# Integer\n",
    "a = 5\n",
    "b = 3\n",
    "print (a)\n"
   ]
  },
  {
   "cell_type": "code",
   "execution_count": 4,
   "metadata": {},
   "outputs": [
    {
     "name": "stdout",
     "output_type": "stream",
     "text": [
      "integer 3\n"
     ]
    }
   ],
   "source": [
    "print (\"integer\", b)"
   ]
  },
  {
   "cell_type": "code",
   "execution_count": 5,
   "metadata": {},
   "outputs": [
    {
     "name": "stdout",
     "output_type": "stream",
     "text": [
      "integer 5\n"
     ]
    }
   ],
   "source": [
    "print (f\"integer {a}\")"
   ]
  },
  {
   "cell_type": "code",
   "execution_count": null,
   "metadata": {},
   "outputs": [],
   "source": []
  },
  {
   "cell_type": "code",
   "execution_count": 6,
   "metadata": {},
   "outputs": [
    {
     "name": "stdout",
     "output_type": "stream",
     "text": [
      "Integer:{num}\n",
      "9.9\n"
     ]
    }
   ],
   "source": [
    "3\n",
    "print(\"Integer:{num}\")\n",
    "# Float\n",
    "a=9.9\n",
    "print (a)"
   ]
  },
  {
   "cell_type": "code",
   "execution_count": 8,
   "metadata": {},
   "outputs": [
    {
     "name": "stdout",
     "output_type": "stream",
     "text": [
      "integer 9.9\n"
     ]
    }
   ],
   "source": [
    "# Float\n",
    "a= 9.9\n",
    "print (\"integer\", a)\n"
   ]
  },
  {
   "cell_type": "code",
   "execution_count": 9,
   "metadata": {},
   "outputs": [
    {
     "name": "stdout",
     "output_type": "stream",
     "text": [
      "float:3.33\n"
     ]
    }
   ],
   "source": [
    "# Float\n",
    "c= 3.33\n",
    "print (f\"float:{c}\")"
   ]
  },
  {
   "cell_type": "code",
   "execution_count": 3,
   "metadata": {},
   "outputs": [
    {
     "name": "stdout",
     "output_type": "stream",
     "text": [
      "float:10.33333\n"
     ]
    }
   ],
   "source": [
    "decimal= 10.33333\n",
    "print (f\"float:{decimal}\")\n"
   ]
  },
  {
   "cell_type": "code",
   "execution_count": 17,
   "metadata": {},
   "outputs": [
    {
     "name": "stdout",
     "output_type": "stream",
     "text": [
      "complex (2+5j)\n"
     ]
    }
   ],
   "source": [
    "# Complex\n",
    "b = 2+5j\n",
    "print(\"complex\", b)\n"
   ]
  },
  {
   "cell_type": "code",
   "execution_count": 18,
   "metadata": {},
   "outputs": [
    {
     "name": "stdout",
     "output_type": "stream",
     "text": [
      "hi bye\n"
     ]
    }
   ],
   "source": [
    "\n",
    "# --- String and Character ---\n",
    "# String\n",
    "string1=\"hi\"\n",
    "string2=\"bye\"\n",
    "print(string1,string2)"
   ]
  },
  {
   "cell_type": "code",
   "execution_count": 32,
   "metadata": {},
   "outputs": [
    {
     "name": "stdout",
     "output_type": "stream",
     "text": [
      "hi bye\n"
     ]
    },
    {
     "data": {
      "text/plain": [
       "'i'"
      ]
     },
     "execution_count": 32,
     "metadata": {},
     "output_type": "execute_result"
    }
   ],
   "source": [
    "coco = string1 +\" \"+ string2\n",
    "print(coco)\n",
    "len(coco)\n",
    "string1[1]"
   ]
  },
  {
   "cell_type": "code",
   "execution_count": 23,
   "metadata": {},
   "outputs": [],
   "source": [
    "first_char =string1[1]"
   ]
  },
  {
   "cell_type": "code",
   "execution_count": 28,
   "metadata": {},
   "outputs": [
    {
     "data": {
      "text/plain": [
       "'HI'"
      ]
     },
     "execution_count": 28,
     "metadata": {},
     "output_type": "execute_result"
    }
   ],
   "source": [
    "string2[-1]\n",
    "string2[0:2]\n",
    "string1.upper()"
   ]
  },
  {
   "cell_type": "code",
   "execution_count": 29,
   "metadata": {},
   "outputs": [
    {
     "name": "stdout",
     "output_type": "stream",
     "text": [
      "nooooooooooo\n"
     ]
    }
   ],
   "source": [
    "if \"tie\" in coco:\n",
    "    print(\"yesssss\")\n",
    "else:\n",
    "    print(\"nooooooooooo\")"
   ]
  },
  {
   "cell_type": "code",
   "execution_count": 53,
   "metadata": {},
   "outputs": [
    {
     "name": "stdout",
     "output_type": "stream",
     "text": [
      "hi python\n"
     ]
    }
   ],
   "source": [
    "cocoN=coco.replace(\"bye\" ,\"python\")\n",
    "print(cocoN)"
   ]
  },
  {
   "cell_type": "code",
   "execution_count": 36,
   "metadata": {},
   "outputs": [
    {
     "name": "stdout",
     "output_type": "stream",
     "text": [
      "['hi', 'python']\n"
     ]
    }
   ],
   "source": [
    "cocoN1=cocoN.split(\" \")\n",
    "print(cocoN1)"
   ]
  },
  {
   "cell_type": "code",
   "execution_count": 34,
   "metadata": {},
   "outputs": [
    {
     "name": "stdout",
     "output_type": "stream",
     "text": [
      "h@i@ @p@y@t@h@o@n\n"
     ]
    }
   ],
   "source": [
    "cocoN7=\"@\".join(cocoN)\n",
    "print(cocoN7)"
   ]
  },
  {
   "cell_type": "code",
   "execution_count": 37,
   "metadata": {},
   "outputs": [
    {
     "name": "stdout",
     "output_type": "stream",
     "text": [
      "hi--python\n"
     ]
    }
   ],
   "source": [
    "cocoN2=\"--\".join(cocoN1)\n",
    "print(cocoN2)"
   ]
  },
  {
   "cell_type": "code",
   "execution_count": 38,
   "metadata": {},
   "outputs": [
    {
     "name": "stdout",
     "output_type": "stream",
     "text": [
      "hihihihihi\n"
     ]
    }
   ],
   "source": [
    "cocoN3= string1*5\n",
    "print(cocoN3)"
   ]
  },
  {
   "cell_type": "code",
   "execution_count": 39,
   "metadata": {},
   "outputs": [
    {
     "name": "stdout",
     "output_type": "stream",
     "text": [
      "False\n"
     ]
    }
   ],
   "source": [
    "# Character (In Python, a single character is just a string of length 1)\n",
    "\n",
    "\n",
    "# --- Boolean ---\n",
    "# Boolean values\n",
    "x=10\n",
    "y=20\n",
    "print(x==y)"
   ]
  },
  {
   "cell_type": "code",
   "execution_count": 40,
   "metadata": {},
   "outputs": [
    {
     "name": "stdout",
     "output_type": "stream",
     "text": [
      "True\n"
     ]
    }
   ],
   "source": [
    "x=5\n",
    "y=5\n",
    "print(x==y)"
   ]
  },
  {
   "cell_type": "code",
   "execution_count": 41,
   "metadata": {},
   "outputs": [
    {
     "name": "stdout",
     "output_type": "stream",
     "text": [
      "True\n"
     ]
    }
   ],
   "source": [
    "x=5*4\n",
    "y=5*4\n",
    "print(x==y)"
   ]
  },
  {
   "cell_type": "code",
   "execution_count": 1,
   "metadata": {},
   "outputs": [],
   "source": [
    "class Food:\n",
    "    def __init__(self, name='apple', color='red', size=0, price=0):\n",
    "        self.name = name\n",
    "        self.color = color\n",
    "        self.size = size\n",
    "        self.price = price\n",
    "        self.quantity = 1\n",
    "    \n",
    "    def printinfo(self):\n",
    "        if self.name == '':\n",
    "            print(\"I'm nothing\")\n",
    "        else:\n",
    "            print(f\"I am a {self.name}.\")\n"
   ]
  },
  {
   "cell_type": "code",
   "execution_count": null,
   "metadata": {},
   "outputs": [],
   "source": []
  },
  {
   "cell_type": "code",
   "execution_count": 2,
   "metadata": {},
   "outputs": [],
   "source": [
    "f1 = Food()\n",
    "f2 = Food('banana')\n",
    "f3 = Food('orange','orange')\n",
    "f4 = Food('grape',size =3)\n",
    "f5 = Food('pear', 3)"
   ]
  },
  {
   "cell_type": "code",
   "execution_count": 44,
   "metadata": {},
   "outputs": [
    {
     "name": "stdout",
     "output_type": "stream",
     "text": [
      "[1, 2, 10, 4, 5, 6, 7]\n"
     ]
    }
   ],
   "source": [
    "# --- Arrays (Lists) ---\n",
    "# List\n",
    "array=[1,2,3,4,5,6,7]\n",
    "array[2]=10\n",
    "print(array)\n"
   ]
  },
  {
   "cell_type": "code",
   "execution_count": 50,
   "metadata": {},
   "outputs": [
    {
     "name": "stdout",
     "output_type": "stream",
     "text": [
      "array1[1, 2, 10, 4, 5, 6, 7]\n"
     ]
    }
   ],
   "source": [
    "print(f\"array1{array}\")"
   ]
  },
  {
   "cell_type": "code",
   "execution_count": 51,
   "metadata": {},
   "outputs": [
    {
     "name": "stdout",
     "output_type": "stream",
     "text": [
      "array1 [1, 2, 10, 4, 5, 6, 7]\n"
     ]
    }
   ],
   "source": [
    "print(\"array1\",array)"
   ]
  },
  {
   "cell_type": "code",
   "execution_count": 59,
   "metadata": {},
   "outputs": [
    {
     "name": "stdout",
     "output_type": "stream",
     "text": [
      "[10, 20, 30, 40, 50, 60]\n"
     ]
    }
   ],
   "source": [
    "array=[ 10,20,30,40,50]\n",
    "array.append(60)\n",
    "print(array)"
   ]
  },
  {
   "cell_type": "code",
   "execution_count": 60,
   "metadata": {},
   "outputs": [
    {
     "name": "stdout",
     "output_type": "stream",
     "text": [
      "[10, 20, 30, 40, 50, 60, 70]\n"
     ]
    }
   ],
   "source": [
    "array.append(70)\n",
    "print(array)"
   ]
  },
  {
   "cell_type": "code",
   "execution_count": 61,
   "metadata": {},
   "outputs": [
    {
     "name": "stdout",
     "output_type": "stream",
     "text": [
      "[10, 20, 30, 40, 50, 60, 61, 70]\n"
     ]
    }
   ],
   "source": [
    "array.insert(6,61)\n",
    "print(array)"
   ]
  },
  {
   "cell_type": "code",
   "execution_count": null,
   "metadata": {},
   "outputs": [],
   "source": [
    "\n",
    "\n",
    "# Adding to a list\n",
    "\n",
    "\n",
    "# --- Objects (using classes) ---\n",
    "class student \n",
    "     def _init_(self,name,id):\n",
    "        self.name = name\n",
    "        self.id = id\n",
    "\n",
    "        def greet (  self):\n",
    "            print (f\"hello, i'm {self.name} and my id is {self id}\")\n",
    " # Create an object of the Person class\n",
    "s1 = Student( \"sumitra\", 202227"
   ]
  },
  {
   "cell_type": "code",
   "execution_count": 18,
   "metadata": {},
   "outputs": [
    {
     "data": {
      "text/plain": [
       "0"
      ]
     },
     "execution_count": 18,
     "metadata": {},
     "output_type": "execute_result"
    }
   ],
   "source": [
    "f5.price"
   ]
  },
  {
   "cell_type": "code",
   "execution_count": null,
   "metadata": {},
   "outputs": [],
   "source": [
    "342)\n",
    "\n",
    "# --- Type Conversion ---\n",
    "# Convert integer to float\n",
    "\n",
    "\n",
    "# Convert float to integer (truncates the decimal part)\n",
    "\n",
    "\n",
    "# Convert boolean to integer\n",
    "\n",
    "\n",
    "# --- Type Checking ---\n"
   ]
  },
  {
   "cell_type": "markdown",
   "metadata": {},
   "source": [
    "# 1. Hello, World! (First Program)\n",
    "\n",
    "This is a simple introduction to Python syntax and the print() function."
   ]
  },
  {
   "cell_type": "code",
   "execution_count": null,
   "metadata": {},
   "outputs": [],
   "source": [
    "# Basic \"Hello, World!\" example\n"
   ]
  },
  {
   "cell_type": "markdown",
   "metadata": {},
   "source": [
    "# 2. Basic Math Operations\n",
    "\n",
    "Introduce variables and arithmetic operators."
   ]
  },
  {
   "cell_type": "code",
   "execution_count": null,
   "metadata": {},
   "outputs": [],
   "source": [
    "# Simple math operations\n",
    "\n",
    "\n",
    "# Addition\n",
    "\n",
    "# Subtraction\n",
    "\n",
    "# Multiplication\n",
    "\n",
    "# Division\n"
   ]
  },
  {
   "cell_type": "markdown",
   "metadata": {},
   "source": [
    "# 3. Getting User Input\n",
    "\n",
    "Demonstrates how to interact with the user via input()."
   ]
  },
  {
   "cell_type": "code",
   "execution_count": 19,
   "metadata": {},
   "outputs": [
    {
     "ename": "SyntaxError",
     "evalue": "expression cannot contain assignment, perhaps you meant \"==\"? (361560268.py, line 8)",
     "output_type": "error",
     "traceback": [
      "\u001b[0;36m  Cell \u001b[0;32mIn[19], line 8\u001b[0;36m\u001b[0m\n\u001b[0;31m    print(\"Next year, you will be\" + str(int(age)+ 1 ) =\"!\")\u001b[0m\n\u001b[0m          ^\u001b[0m\n\u001b[0;31mSyntaxError\u001b[0m\u001b[0;31m:\u001b[0m expression cannot contain assignment, perhaps you meant \"==\"?\n"
     ]
    }
   ],
   "source": [
    "# Getting user input and using it\n",
    "name = input(\"what is your name?>>>\")\n",
    "print(\"hello\" +\"name+\" \"!\")\n",
    "\n",
    "\n",
    "# Working with numbers\n",
    "age = input (\"How old are you?>>>\") #string\n",
    "print(\"Next year, you will be\" + str(int(age)+ 1 ) \"!\")"
   ]
  },
  {
   "cell_type": "code",
   "execution_count": null,
   "metadata": {},
   "outputs": [],
   "source": []
  },
  {
   "cell_type": "markdown",
   "metadata": {},
   "source": [
    "# 4. If Statements (Conditionals)\n",
    "\n",
    "Introduce the concept of decision-making using if, else, and elif."
   ]
  },
  {
   "cell_type": "code",
   "execution_count": 22,
   "metadata": {},
   "outputs": [
    {
     "ename": "SyntaxError",
     "evalue": "invalid syntax (2293390364.py, line 9)",
     "output_type": "error",
     "traceback": [
      "\u001b[0;36m  Cell \u001b[0;32mIn[22], line 9\u001b[0;36m\u001b[0m\n\u001b[0;31m    else:\u001b[0m\n\u001b[0m    ^\u001b[0m\n\u001b[0;31mSyntaxError\u001b[0m\u001b[0;31m:\u001b[0m invalid syntax\n"
     ]
    }
   ],
   "source": [
    "# Basic if-else example\n",
    "number = int(input(\"Enter a number:>>>\"))\n",
    "if number > 0:\n",
    "    print(\"you are positive!\")\n",
    "elif number % 2 ==0:\n",
    "    print(\"you are even!\")\n",
    "else:\n",
    "    print(\"you are odd!\")\n",
    "    else:\n",
    "print(\"you are negative!\")"
   ]
  },
  {
   "cell_type": "markdown",
   "metadata": {},
   "source": [
    "# 5. For Loop (Iteration)\n",
    "\n",
    "A basic introduction to loops with a for loop that repeats a certain number of times."
   ]
  },
  {
   "cell_type": "code",
   "execution_count": null,
   "metadata": {},
   "outputs": [],
   "source": [
    "# Basic for loop example\n"
   ]
  },
  {
   "cell_type": "markdown",
   "metadata": {},
   "source": [
    "# 6. While Loop (Iteration with Condition)\n",
    "\n",
    "Demonstrates a loop that runs until a condition is met."
   ]
  },
  {
   "cell_type": "code",
   "execution_count": 3,
   "metadata": {},
   "outputs": [
    {
     "name": "stdout",
     "output_type": "stream",
     "text": [
      "Count is: 0\n",
      "Count is: 1\n",
      "Count is: 2\n",
      "Count is: 3\n",
      "Count is: 4\n"
     ]
    }
   ],
   "source": [
    "# Basic while loop example\n",
    "# Basic while loop example\n",
    "count = 0  # Start point\n",
    "\n",
    "while count < 5:  # End point condition\n",
    "    print(\"Count is:\", count)\n",
    "    count += 1  # Increment to avoid infinite loop\n",
    "\n",
    "#for loops need:\n",
    "# 1.start point\n",
    "# 2.end point\n",
    "#\n"
   ]
  },
  {
   "cell_type": "markdown",
   "metadata": {},
   "source": [
    "# 7. Basic Function Example\n",
    "\n",
    "Introducing how to write and call functions."
   ]
  },
  {
   "cell_type": "code",
   "execution_count": null,
   "metadata": {},
   "outputs": [],
   "source": [
    "# Function to greet the user\n"
   ]
  },
  {
   "cell_type": "markdown",
   "metadata": {},
   "source": [
    "# 8. Simple Temperature Converter\n",
    "\n",
    "Combines input, conditionals, and functions in a real-world example."
   ]
  },
  {
   "cell_type": "code",
   "execution_count": null,
   "metadata": {},
   "outputs": [],
   "source": [
    "# Function to convert Celsius to Fahrenheit\n",
    "\n",
    "\n",
    "# Get temperature from user\n"
   ]
  },
  {
   "cell_type": "markdown",
   "metadata": {},
   "source": [
    "# 9. Simple Guessing Game\n",
    "\n",
    "A fun exercise that involves loops, conditionals, and randomness."
   ]
  },
  {
   "cell_type": "code",
   "execution_count": null,
   "metadata": {},
   "outputs": [],
   "source": [
    "\n",
    "# Generate a random number between 1 and 10\n",
    "\n",
    "\n",
    "# Keep asking the user until they guess correctly\n"
   ]
  },
  {
   "cell_type": "markdown",
   "metadata": {},
   "source": [
    "# 10. FizzBuzz (Classic Example)\n",
    "\n",
    "A popular coding challenge that helps beginners practice conditionals and loops.\n",
    "\n",
    "**Problem Statement:**\n",
    "\n",
    "Print numbers from 1 to n, where n is a positive integer. For each number:\n",
    "\n",
    "- Print \"Fizz\" if the number is divisible by 3.\n",
    "- Print \"Buzz\" if the number is divisible by 5.\n",
    "- Print \"FizzBuzz\" if the number is divisible by both 3 and 5.\n",
    "- Print the number itself if it is not divisible by either 3 or 5."
   ]
  },
  {
   "cell_type": "code",
   "execution_count": null,
   "metadata": {},
   "outputs": [],
   "source": [
    "# FizzBuzz example\n"
   ]
  },
  {
   "cell_type": "markdown",
   "metadata": {},
   "source": [
    "# Bonus: Recursive Fibonacci Function\n",
    "\n",
    "A more advanced example that demonstrates recursion."
   ]
  },
  {
   "cell_type": "code",
   "execution_count": null,
   "metadata": {},
   "outputs": [],
   "source": [
    "def fibonacci(n):\n",
    "    # Base cases\n",
    "\n",
    "        # Recursive case: F(n) = F(n-1) + F(n-2)\n",
    "        \n",
    "\n",
    "# Example usage\n"
   ]
  },
  {
   "cell_type": "code",
   "execution_count": null,
   "metadata": {},
   "outputs": [],
   "source": []
  }
 ],
 "metadata": {
  "kernelspec": {
   "display_name": "Python 3",
   "language": "python",
   "name": "python3"
  },
  "language_info": {
   "codemirror_mode": {
    "name": "ipython",
    "version": 3
   },
   "file_extension": ".py",
   "mimetype": "text/x-python",
   "name": "python",
   "nbconvert_exporter": "python",
   "pygments_lexer": "ipython3",
   "version": "3.12.1"
  }
 },
 "nbformat": 4,
 "nbformat_minor": 2
}
